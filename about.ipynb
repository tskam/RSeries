{
  "cells": [
    {
      "cell_type": "raw",
      "metadata": {},
      "source": [
        "---\n",
        "title: \"About\"\n",
        "---"
      ],
      "id": "36766478"
    },
    {
      "cell_type": "markdown",
      "metadata": {},
      "source": [
        "```{Welcome to R Series Workshop}\n",
        "```"
      ],
      "id": "a344478e"
    }
  ],
  "metadata": {
    "kernelspec": {
      "display_name": "Python 3",
      "language": "python",
      "name": "python3"
    }
  },
  "nbformat": 4,
  "nbformat_minor": 5
}